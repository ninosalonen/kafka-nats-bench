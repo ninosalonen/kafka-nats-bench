{
 "cells": [
  {
   "cell_type": "markdown",
   "id": "e4964da2",
   "metadata": {},
   "source": [
    "# Plots"
   ]
  },
  {
   "cell_type": "code",
   "execution_count": null,
   "id": "4f011bf7",
   "metadata": {},
   "outputs": [],
   "source": [
    "import pandas as pd\n",
    "import matplotlib.pyplot as plt\n",
    "from matplotlib.ticker import MaxNLocator, FuncFormatter\n",
    "import numpy as np"
   ]
  },
  {
   "cell_type": "code",
   "execution_count": null,
   "id": "42115cc3",
   "metadata": {},
   "outputs": [],
   "source": [
    "nats_disk = pd.read_csv(\"../nats_disk_usage.csv\")\n",
    "nats_metrics = pd.read_csv(\"../nats_metrics.csv\")\n",
    "kafka_disk  = pd.read_csv(\"../kafka_disk_usage.csv\")\n",
    "kafka_metrics = pd.read_csv(\"../kafka_metrics.csv\")\n",
    "\n",
    "nats_cluster_disk = pd.read_csv(\"../nats_cluster_disk_usage.csv\")\n",
    "nats_cluster_metrics = pd.read_csv(\"../nats_cluster_metrics.csv\")\n",
    "kafka_cluster_disk  = pd.read_csv(\"../kafka_cluster_disk_usage.csv\")\n",
    "kafka_cluster_metrics = pd.read_csv(\"../kafka_cluster_metrics.csv\")\n",
    "\n",
    "def convert(s, to_unit='mb'):\n",
    "    units_in_bytes = {\n",
    "        'kB': 1_000,\n",
    "        'MB': 1_000_000,\n",
    "        'MiB': 1024**2,\n",
    "        'GB': 1_000_000_000,\n",
    "        'GiB': 1024**3,\n",
    "        'B': 1,\n",
    "    }\n",
    "    \n",
    "    for unit, bytes_val in units_in_bytes.items():\n",
    "        if s.endswith(unit):\n",
    "            num = float(s.replace(unit, ''))\n",
    "            if to_unit == 'kb':\n",
    "                return num * bytes_val / 1_000\n",
    "            if to_unit == 'mb':\n",
    "                return num * bytes_val / 1_000_000\n",
    "            elif to_unit == 'gb':\n",
    "                return num * bytes_val / 1_000_000_000\n",
    "    return float(s)\n",
    "\n",
    "for df in [kafka_metrics, nats_metrics, kafka_cluster_metrics, nats_cluster_metrics]:\n",
    "    # convert units\n",
    "    df['mem'] = df['mem'].apply(lambda x: convert(x, to_unit='mb'))\n",
    "    df['disk_read'] = df['disk_read'].apply(lambda x: convert(x, to_unit='kb'))\n",
    "    df['disk_write'] = df['disk_write'].apply(lambda x: convert(x, to_unit='gb'))\n",
    "    # get seconds\n",
    "    df['timestamp'] = pd.to_datetime(df['timestamp'])\n",
    "    df['seconds'] = (df['timestamp'] - df['timestamp'].iloc[0]).dt.total_seconds()"
   ]
  },
  {
   "cell_type": "code",
   "execution_count": null,
   "id": "40b83b1b",
   "metadata": {},
   "outputs": [],
   "source": [
    "kafka_color = \"#d62728\"\n",
    "nats_color = \"#1f77b4\"\n",
    "line_styles = ['-', '--', '-.']\n",
    "\n",
    "metrics = ['cpu', 'mem', 'disk_write'] # 'disk_read'\n",
    "\n",
    "y_axis_labels = {\n",
    "    'cpu': 'CPU (%)',\n",
    "    'mem': 'Memory (MB)',\n",
    "    'disk_read': 'Disk Read (kB)',\n",
    "    'disk_write': 'Disk Write (GB)',\n",
    "}"
   ]
  },
  {
   "cell_type": "markdown",
   "id": "1792d50a",
   "metadata": {},
   "source": [
    "## Single Node Results"
   ]
  },
  {
   "cell_type": "markdown",
   "id": "3104df2e",
   "metadata": {},
   "source": [
    "### Metrics"
   ]
  },
  {
   "cell_type": "code",
   "execution_count": null,
   "id": "dc964f89",
   "metadata": {},
   "outputs": [],
   "source": [
    "def plot_metrics(nats_data, kafka_data, cluster=False):\n",
    "    legend_y_anchor = 1.28 if cluster else 1.15\n",
    "    legend_ncols = 3 if cluster else 2\n",
    "\n",
    "    for m in metrics:\n",
    "        plt.figure(figsize=(8, 5))\n",
    "        \n",
    "        for i, (node, group) in enumerate(nats_data.groupby(\"node\")):\n",
    "            plt.plot(group.index, group[m], label=node, color=nats_color, linestyle=line_styles[i % len(line_styles)])\n",
    "\n",
    "        for i, (node, group) in enumerate(kafka_data.groupby(\"node\")):\n",
    "            plt.plot(group.index, group[m], label=node, color=kafka_color, linestyle=line_styles[i % len(line_styles)])\n",
    "\n",
    "        plt.xlabel(\"Time (s)\", fontsize=14, labelpad=15)\n",
    "        plt.ylabel(y_axis_labels.get(m), fontsize=14, labelpad=15)\n",
    "        plt.legend(loc='upper center', fontsize=14, bbox_to_anchor=(0.5, legend_y_anchor), ncols=legend_ncols)\n",
    "        plt.tick_params(labelsize=14)\n",
    "        plt.grid(False)\n",
    "        plt.gca().yaxis.set_major_locator(MaxNLocator(integer=True))\n",
    "        plt.gca().yaxis.set_major_formatter(plt.FuncFormatter(lambda x, _: f'{x:,.0f}'))\n",
    "        plt.tight_layout()\n",
    "        plt.show()\n",
    "\n",
    "plot_metrics(nats_metrics, kafka_metrics)\n",
    "plot_metrics(nats_cluster_metrics, kafka_cluster_metrics, True)"
   ]
  },
  {
   "cell_type": "markdown",
   "id": "d16983ca",
   "metadata": {},
   "source": [
    "### Total disk usage single node"
   ]
  },
  {
   "cell_type": "code",
   "execution_count": null,
   "id": "c1724f34",
   "metadata": {},
   "outputs": [],
   "source": [
    "disk = pd.concat([nats_disk, kafka_disk], axis=0)\n",
    "disk['increase_mb'] = disk['disk_after_mb'] - disk['disk_before_mb']\n",
    "\n",
    "disk"
   ]
  },
  {
   "cell_type": "markdown",
   "id": "15a6316b",
   "metadata": {},
   "source": [
    "### Total disk usage cluster"
   ]
  },
  {
   "cell_type": "code",
   "execution_count": null,
   "id": "a34a7752",
   "metadata": {},
   "outputs": [],
   "source": [
    "disk_cluster = pd.concat([nats_cluster_disk, kafka_cluster_disk], axis=0)\n",
    "disk_cluster['increase_mb'] = disk_cluster['disk_after_mb'] - disk_cluster['disk_before_mb']\n",
    "\n",
    "disk_cluster"
   ]
  },
  {
   "cell_type": "markdown",
   "id": "4ca15cca",
   "metadata": {},
   "source": [
    "## Plot latencies and throughput"
   ]
  },
  {
   "cell_type": "code",
   "execution_count": null,
   "id": "73bc2ae4",
   "metadata": {},
   "outputs": [],
   "source": [
    "def plot_latency(kafka_ms, nats_ms):\n",
    "    latency_metrics = ['Median', '95th %', '99th %']\n",
    "    kafka = [x / 1000 for x in kafka_ms]\n",
    "    nats = [x / 1000 for x in nats_ms]\n",
    "\n",
    "    x = np.arange(len(latency_metrics))\n",
    "    width = 0.35\n",
    "\n",
    "    _, ax = plt.subplots(figsize=(8, 5))\n",
    "\n",
    "    bars1 = ax.bar(x - width/2, kafka, width, label='Kafka', color=kafka_color)\n",
    "    bars2 = ax.bar(x + width/2, nats, width, label='NATS', color=nats_color)\n",
    "\n",
    "    ax.set_ylabel('Latency (s)', fontsize=14, labelpad=15)\n",
    "    ax.set_xticks(x)\n",
    "    ax.set_xticklabels(latency_metrics, fontsize=14)\n",
    "    ax.tick_params(labelsize=14)\n",
    "    ax.legend(fontsize=14, loc='upper left')\n",
    "\n",
    "    for bars in [bars1, bars2]:\n",
    "        for bar in bars:\n",
    "            height = bar.get_height()\n",
    "            ax.annotate(f'{height:.2f}', xy=(bar.get_x() + bar.get_width() / 2, height), xytext=(0, 3),textcoords=\"offset points\",ha='center', fontsize=14)\n",
    "\n",
    "    plt.ylim(top=max(kafka + nats) * 1.15)\n",
    "    ax.yaxis.set_major_formatter(FuncFormatter(lambda x, _: f'{int(x)}'))\n",
    "    plt.tight_layout()\n",
    "    plt.show()\n",
    "\n",
    "plot_latency([19193, 26709, 28723], [338, 654, 742])\n",
    "plot_latency([35165, 48855, 54492], [487, 935, 981])"
   ]
  },
  {
   "cell_type": "code",
   "execution_count": null,
   "id": "a54e3d28",
   "metadata": {},
   "outputs": [],
   "source": [
    "# single node, three node\n",
    "kafka = [107213, 75706]\n",
    "nats = [71169, 32819]\n",
    "\n",
    "x = range(2)\n",
    "width = 0.35\n",
    "\n",
    "plt.figure(figsize=(8, 5))\n",
    "\n",
    "bars1 = plt.bar([i - width/2 for i in x], kafka, width=width, label='Kafka', color=kafka_color)\n",
    "bars2 = plt.bar([i + width/2 for i in x], nats, width=width, label='NATS', color=nats_color)\n",
    "\n",
    "plt.ylabel(\"Throughput (messages/sec)\", fontsize=14, labelpad=15)\n",
    "plt.xticks(x, [\"Single Node\", \"Three Node\"], fontsize=14)\n",
    "plt.yticks(fontsize=14)\n",
    "plt.gca().yaxis.set_major_locator(MaxNLocator(integer=True))\n",
    "plt.gca().yaxis.set_major_formatter(FuncFormatter(lambda x, _: f'{int(x)}'))\n",
    "plt.ylim(top=max(kafka + nats) * 1.15)\n",
    "plt.legend(fontsize=14)\n",
    "\n",
    "for bars in [bars1, bars2]:\n",
    "    for bar in bars:\n",
    "        yval = bar.get_height()\n",
    "        plt.text(bar.get_x() + bar.get_width()/2, yval + 1500, f'{int(yval)}', ha='center', fontsize=14)\n",
    "\n",
    "plt.tight_layout()\n",
    "plt.show()"
   ]
  }
 ],
 "metadata": {
  "kernelspec": {
   "display_name": ".venv",
   "language": "python",
   "name": "python3"
  },
  "language_info": {
   "codemirror_mode": {
    "name": "ipython",
    "version": 3
   },
   "file_extension": ".py",
   "mimetype": "text/x-python",
   "name": "python",
   "nbconvert_exporter": "python",
   "pygments_lexer": "ipython3",
   "version": "3.13.3"
  }
 },
 "nbformat": 4,
 "nbformat_minor": 5
}
